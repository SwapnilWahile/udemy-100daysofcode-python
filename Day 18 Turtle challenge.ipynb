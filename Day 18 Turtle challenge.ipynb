{
 "cells": [
  {
   "cell_type": "code",
   "execution_count": 1,
   "id": "092d9f67",
   "metadata": {},
   "outputs": [],
   "source": [
    "from turtle import Turtle, Screen\n",
    "timmy = Turtle()\n",
    "timmy.shape(\"turtle\")\n",
    "timmy.color(\"red\")\n",
    "for q in range(4):\n",
    "    timmy.forward(100)\n",
    "    timmy.left(90)\n",
    "    \n",
    "screen = Screen()\n",
    "screen.exitonclick()"
   ]
  },
  {
   "cell_type": "code",
   "execution_count": 5,
   "id": "fbc73e4c",
   "metadata": {},
   "outputs": [
    {
     "name": "stdout",
     "output_type": "stream",
     "text": [
      "Collecting heroes\n",
      "  Downloading heroes-1.0.2.tar.gz (11 kB)\n",
      "Building wheels for collected packages: heroes\n",
      "  Building wheel for heroes (setup.py): started\n",
      "  Building wheel for heroes (setup.py): finished with status 'done'\n",
      "  Created wheel for heroes: filename=heroes-1.0.2-py3-none-any.whl size=11196 sha256=866dd5d2b0e56b33edb6dcfc2ce80cf3a687e862f818c6e271f372abbd533d17\n",
      "  Stored in directory: c:\\users\\shubham\\appdata\\local\\pip\\cache\\wheels\\63\\d6\\4f\\e0539ca3490e442cba81e0d1ea5077e71827085933bf28fb37\n",
      "Successfully built heroes\n",
      "Installing collected packages: heroes\n",
      "Successfully installed heroes-1.0.2\n"
     ]
    }
   ],
   "source": [
    "! pip install heroes"
   ]
  },
  {
   "cell_type": "code",
   "execution_count": 6,
   "id": "fda2fe83",
   "metadata": {},
   "outputs": [
    {
     "name": "stdout",
     "output_type": "stream",
     "text": [
      "Diva\n"
     ]
    }
   ],
   "source": [
    "import heroes\n",
    "print(heroes.gen())"
   ]
  },
  {
   "cell_type": "code",
   "execution_count": 1,
   "id": "80b8c81e",
   "metadata": {},
   "outputs": [],
   "source": [
    "from turtle import Turtle, Screen\n",
    "timmy = Turtle()\n",
    "timmy.shape(\"turtle\")\n",
    "\n",
    "for e in range(50):\n",
    "    timmy.pendown()\n",
    "    timmy.forward(3)\n",
    "    timmy.penup()\n",
    "    timmy.forward(3)\n",
    "screen = Screen()\n",
    "screen.exitonclick()"
   ]
  },
  {
   "cell_type": "code",
   "execution_count": 1,
   "id": "3a845652",
   "metadata": {},
   "outputs": [],
   "source": [
    "from turtle import Turtle, Screen\n",
    "timmy = Turtle()\n",
    "timmy.shape(\"turtle\")\n",
    "timmy.color(\"red\")\n",
    "timmy.penup()\n",
    "timmy.forward(7)"
   ]
  },
  {
   "cell_type": "code",
   "execution_count": 1,
   "id": "de5f0298",
   "metadata": {},
   "outputs": [],
   "source": [
    "from turtle import Turtle, Screen\n",
    "import random\n",
    "timmy = Turtle()\n",
    "timmy.shape(\"turtle\")\n",
    "colours = [\"CornflowerBlue\", \"DarkOrchid\", \"IndianRed\", \"DeepSkyBlue\", \"LightSeaGreen\", \"wheat\", \"SlateGray\", \"SeaGreen\"]\n",
    "\n",
    "def draw(sides):\n",
    "    angle = 360 / sides\n",
    "    for q in range(sides):\n",
    "        timmy.forward(100)\n",
    "        timmy.right(angle)\n",
    "\n",
    "for shape_sides_n in range(3, 10):\n",
    "    timmy.color(random.choice(colours))\n",
    "    draw(shape_sides_n)\n",
    "    \n",
    "screen = Screen()\n",
    "screen.exitonclick()"
   ]
  },
  {
   "cell_type": "code",
   "execution_count": 1,
   "id": "8c64ffde",
   "metadata": {},
   "outputs": [],
   "source": [
    "from turtle import Turtle, Screen\n",
    "import random\n",
    "timmy = Turtle()\n",
    "timmy.shape(\"turtle\")\n",
    "colours = [\"CornflowerBlue\", \"DarkOrchid\", \"IndianRed\", \"DeepSkyBlue\", \"LightSeaGreen\", \"wheat\", \"SlateGray\", \"SeaGreen\"]\n",
    "direction = [0, 1]\n",
    "rand = [20, 40]\n",
    "timmy.speed(10)\n",
    "timmy.pensize(7)\n",
    "    \n",
    "\n",
    "for e in range(150):\n",
    "    if random.choice(direction) == 0:\n",
    "        timmy.color(random.choice(colours))\n",
    "        timmy.forward(random.choice(rand))\n",
    "        timmy.right(90)\n",
    "    else:\n",
    "        timmy.color(random.choice(colours))\n",
    "        timmy.backward(random.choice(rand))\n",
    "        timmy.left(90)\n",
    "        \n",
    "screen = Screen()\n",
    "screen.exitonclick()\n",
    "    "
   ]
  },
  {
   "cell_type": "code",
   "execution_count": 1,
   "id": "007c16f7",
   "metadata": {},
   "outputs": [],
   "source": [
    "from turtle import Turtle, Screen\n",
    "import random\n",
    "timmy = Turtle()\n",
    "timmy.shape(\"turtle\")\n",
    "colours = [\"CornflowerBlue\", \"DarkOrchid\", \"IndianRed\", \"DeepSkyBlue\", \"LightSeaGreen\", \"wheat\", \"SlateGray\", \"SeaGreen\"]\n",
    "direction = [0, 90, 180, 270]\n",
    "timmy.speed(10)\n",
    "timmy.pensize(7)\n",
    "\n",
    "for e in range(200):\n",
    "    timmy.color(random.choice(colours))\n",
    "    timmy.setheading(random.choice(direction))\n",
    "    timmy.forward(30)\n",
    "    "
   ]
  },
  {
   "cell_type": "code",
   "execution_count": 1,
   "id": "0acbf1f7",
   "metadata": {},
   "outputs": [],
   "source": [
    "import turtle as t\n",
    "import random\n",
    "\n",
    "timmy = t.Turtle()\n",
    "t.colormode(255)\n",
    "angle = 2\n",
    "\n",
    "def random_color():\n",
    "    r = random.randint(0, 255)\n",
    "    g = random.randint(0, 255)\n",
    "    b = random.randint(0, 255)\n",
    "    random_colour = (r, g, b)\n",
    "    return random_colour\n",
    "\n",
    "for e in range(int(360 / 7)):\n",
    "    timmy.color(random_color())\n",
    "    timmy.circle(50)\n",
    "    timmy.left(7) #or we can use timmy.setheading(timmy.heading() + size_of_gap)\n",
    "    #angle += 2\n",
    "    \n",
    "\n",
    "\n"
   ]
  },
  {
   "cell_type": "code",
   "execution_count": 1,
   "id": "aca38d50",
   "metadata": {},
   "outputs": [],
   "source": [
    "import turtle as t\n",
    "import random\n",
    "timmy = t.Turtle()\n",
    "t.colormode(255)\n",
    "colour_list = [(226, 231, 236), (58, 106, 148), (224, 200, 110), (134, 84, 58), (223, 138, 62), (196, 145, 171), (234, 226, 204), (224, 234, 230), (142, 178, 203), (139, 82, 105), (208, 90, 69), (237, 225, 233), (188, 80, 120), (69, 105, 90), (133, 182, 135), (133, 133, 74), (64, 156, 92), (47, 156, 193), (183, 192, 201), (213, 177, 191), (19, 58, 92), (20, 68, 113), (113, 123, 149), (227, 174, 166), (172, 203, 183), (156, 206, 217), (69, 58, 47), (72, 64, 53), (111, 46, 59), (53, 70, 64)]\n",
    "\n",
    "timmy.speed(\"fastest\")\n",
    "timmy.penup()\n",
    "timmy.hideturtle()\n",
    "xc = timmy.xcor()\n",
    "yc = timmy.ycor()\n",
    "timmy.setpos(xc - 200, yc - 200)\n",
    "xcc = timmy.xcor()\n",
    "ycc = timmy.ycor()\n",
    "\n",
    "for e in range(10):\n",
    "    for q in range(10):\n",
    "        timmy.dot(20, random.choice(colour_list))\n",
    "        timmy.fd(50)\n",
    "    ycc += 50\n",
    "    timmy.setpos(xcc, ycc)\n",
    "\n",
    "screen = t.Screen()\n",
    "screen.exitonclick()\n"
   ]
  },
  {
   "cell_type": "code",
   "execution_count": null,
   "id": "d8f9bbe2",
   "metadata": {},
   "outputs": [],
   "source": []
  },
  {
   "cell_type": "code",
   "execution_count": null,
   "id": "ab8fdd1a",
   "metadata": {},
   "outputs": [],
   "source": []
  },
  {
   "cell_type": "code",
   "execution_count": null,
   "id": "95bbff93",
   "metadata": {},
   "outputs": [],
   "source": []
  }
 ],
 "metadata": {
  "kernelspec": {
   "display_name": "Python 3",
   "language": "python",
   "name": "python3"
  },
  "language_info": {
   "codemirror_mode": {
    "name": "ipython",
    "version": 3
   },
   "file_extension": ".py",
   "mimetype": "text/x-python",
   "name": "python",
   "nbconvert_exporter": "python",
   "pygments_lexer": "ipython3",
   "version": "3.8.8"
  }
 },
 "nbformat": 4,
 "nbformat_minor": 5
}
