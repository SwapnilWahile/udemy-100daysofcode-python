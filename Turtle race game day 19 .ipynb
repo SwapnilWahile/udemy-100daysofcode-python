{
 "cells": [
  {
   "cell_type": "code",
   "execution_count": 1,
   "id": "9321e79c",
   "metadata": {},
   "outputs": [],
   "source": [
    "from turtle import Turtle, Screen\n",
    "\n",
    "tim = Turtle()\n",
    "screen = Screen()\n",
    "screen.listen()\n",
    "def fd():\n",
    "    tim.fd(10)\n",
    "def bk():\n",
    "    tim.bk(10)\n",
    "def ccw():\n",
    "    tim.left(10)\n",
    "def cc():\n",
    "    tim.right(10)\n",
    "def cl():\n",
    "    tim.reset()\n",
    "\n",
    "screen.onkey(key=\"w\", fun=fd)\n",
    "screen.onkey(key=\"s\", fun=bk)\n",
    "screen.onkey(key=\"a\", fun=ccw)\n",
    "screen.onkey(key=\"d\", fun=cc)\n",
    "screen.onkey(key=\"c\", fun=cl)\n",
    "screen.exitonclick()"
   ]
  },
  {
   "cell_type": "code",
   "execution_count": 1,
   "id": "adddc9a0",
   "metadata": {},
   "outputs": [
    {
     "name": "stdout",
     "output_type": "stream",
     "text": [
      "you won! wining color is green\n"
     ]
    }
   ],
   "source": [
    "from turtle import Turtle, Screen\n",
    "import random\n",
    "\n",
    "screen = Screen()\n",
    "screen.setup(width= 500, height=400)\n",
    "user_bet = screen.textinput(title=\"whats your bet\", prompt=\"which turtle will win the race? enter colour: \")\n",
    "colors = [\"red\", \"orange\", \"yellow\", \"green\", \"blue\", \"purple\"]\n",
    "all_turtle = []\n",
    "\n",
    "is_on = False\n",
    "\n",
    "yxis = 100\n",
    "for q in range(6):\n",
    "    new_turtle = Turtle(shape=\"turtle\")\n",
    "    new_turtle.color(colors[q])\n",
    "    new_turtle.penup()\n",
    "    new_turtle.goto(x=-230, y=yxis)\n",
    "    all_turtle.append(new_turtle)\n",
    "    yxis -= 30\n",
    "\n",
    "if user_bet:\n",
    "    is_on = True\n",
    "while is_on:\n",
    "    \n",
    "    for turtle in all_turtle:\n",
    "        if turtle.xcor() > 230:\n",
    "            is_on = False\n",
    "            win_color = turtle.pencolor()\n",
    "            if win_color == user_bet:\n",
    "                print(f\"you won! wining color is {win_color}\")\n",
    "            else:\n",
    "                print(f\"you lost! wining color is {win_color}\")\n",
    "        \n",
    "        turtle.fd(random.randint(0, 10))\n",
    "    \n",
    "screen.exitonclick()"
   ]
  },
  {
   "cell_type": "raw",
   "id": "843c3ff3",
   "metadata": {},
   "source": []
  },
  {
   "cell_type": "code",
   "execution_count": null,
   "id": "aaab2061",
   "metadata": {},
   "outputs": [],
   "source": []
  }
 ],
 "metadata": {
  "kernelspec": {
   "display_name": "Python 3",
   "language": "python",
   "name": "python3"
  },
  "language_info": {
   "codemirror_mode": {
    "name": "ipython",
    "version": 3
   },
   "file_extension": ".py",
   "mimetype": "text/x-python",
   "name": "python",
   "nbconvert_exporter": "python",
   "pygments_lexer": "ipython3",
   "version": "3.8.8"
  }
 },
 "nbformat": 4,
 "nbformat_minor": 5
}
