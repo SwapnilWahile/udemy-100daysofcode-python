{
 "cells": [
  {
   "cell_type": "code",
   "execution_count": null,
   "id": "bd9d1cf9",
   "metadata": {},
   "outputs": [
    {
     "name": "stdout",
     "output_type": "stream",
     "text": [
      "'encode', 'decode'encode\n",
      "ur msg jklj8 kljkl\n",
      "shift no 7\n",
      "qrsq8 rsqrs\n",
      "restart program yes or no yes\n",
      "'encode', 'decode'encode\n",
      "ur msg abc\n",
      "shift no 87\n",
      "mno\n",
      "restart program yes or no yes\n",
      "'encode', 'decode'encode\n",
      "ur msg sdfsdf\n",
      "shift no 87\n",
      "eprepr\n"
     ]
    }
   ],
   "source": [
    "alphabets = ['a', 'b', 'c', 'd', 'e', 'f', 'g', 'h', 'i', 'j', 'k', 'l', 'm', 'n', 'o', 'p', 'q', 'r', 's', 't', 'u', 'v', 'w', 'x', 'y', 'z', 'a', 'b', 'c', 'd', 'e', 'f', 'g', 'h', 'i', 'j', 'k', 'l', 'm', 'n', 'o', 'p', 'q', 'r', 's', 't', 'u', 'v', 'w', 'x', 'y', 'z']\n",
    "    \n",
    "def caesar(t, s, d):\n",
    "    final = \"\"\n",
    "    for i in t:\n",
    "        if i in alphabets:\n",
    "            pos = alphabets.index(i)\n",
    "            if d == \"decode\":\n",
    "                f = pos - s\n",
    "                final = final + alphabets[f]\n",
    "\n",
    "            else:\n",
    "                f = pos + s\n",
    "                final = final + alphabets[f]\n",
    "        else:\n",
    "            final += i\n",
    "\n",
    "    print(final)\n",
    "    \n",
    "res_pog =True\n",
    "while res_pog:\n",
    "    direction = input(\"'encode', 'decode'\")\n",
    "    text = input(\"ur msg \").lower()\n",
    "    shift = int(input(\"shift no \"))\n",
    "    shift = shift % 25\n",
    "    caesar(text, shift, direction)\n",
    "    dec = input(\"restart program yes or no \")\n",
    "    if dec == \"no\":\n",
    "        res_pog = False\n",
    "\n",
    "print(\"goodbuy\")"
   ]
  },
  {
   "cell_type": "code",
   "execution_count": null,
   "id": "98409065",
   "metadata": {},
   "outputs": [],
   "source": []
  },
  {
   "cell_type": "code",
   "execution_count": null,
   "id": "80cefbaa",
   "metadata": {},
   "outputs": [],
   "source": []
  }
 ],
 "metadata": {
  "kernelspec": {
   "display_name": "Python 3",
   "language": "python",
   "name": "python3"
  },
  "language_info": {
   "codemirror_mode": {
    "name": "ipython",
    "version": 3
   },
   "file_extension": ".py",
   "mimetype": "text/x-python",
   "name": "python",
   "nbconvert_exporter": "python",
   "pygments_lexer": "ipython3",
   "version": "3.8.8"
  }
 },
 "nbformat": 4,
 "nbformat_minor": 5
}
