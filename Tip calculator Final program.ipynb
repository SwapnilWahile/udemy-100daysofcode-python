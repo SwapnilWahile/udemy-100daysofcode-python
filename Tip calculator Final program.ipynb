{
 "cells": [
  {
   "cell_type": "code",
   "execution_count": 1,
   "id": "af09b471",
   "metadata": {},
   "outputs": [
    {
     "name": "stdout",
     "output_type": "stream",
     "text": [
      "welcome to the tip calculator \n",
      "whats the total bill $150\n",
      "what percenr would you like to give 10\n",
      "how many people to split the bill 5\n",
      "each person should pay $33.0 \n"
     ]
    }
   ],
   "source": [
    "print(\"welcome to the tip calculator \")\n",
    "tb=float(input(\"whats the total bill $\"))\n",
    "pt=int(input(\"what percentage would you like to give \"))\n",
    "pe=int(input(\"how many people to split the bill \"))\n",
    "tabt= tb * pt / 100\n",
    "tab= tb + tabt\n",
    "epb= tab / pe\n",
    "lepb=round(epb , 2)\n",
    "print(f\"Each person should pay ${lepb} \")\n"
   ]
  },
  {
   "cell_type": "code",
   "execution_count": null,
   "id": "da65d8bf",
   "metadata": {},
   "outputs": [],
   "source": []
  }
 ],
 "metadata": {
  "kernelspec": {
   "display_name": "Python 3",
   "language": "python",
   "name": "python3"
  },
  "language_info": {
   "codemirror_mode": {
    "name": "ipython",
    "version": 3
   },
   "file_extension": ".py",
   "mimetype": "text/x-python",
   "name": "python",
   "nbconvert_exporter": "python",
   "pygments_lexer": "ipython3",
   "version": "3.8.8"
  }
 },
 "nbformat": 4,
 "nbformat_minor": 5
}
