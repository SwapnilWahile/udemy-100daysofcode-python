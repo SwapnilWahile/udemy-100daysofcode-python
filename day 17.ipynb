{
 "cells": [
  {
   "cell_type": "code",
   "execution_count": 10,
   "id": "c980693c",
   "metadata": {},
   "outputs": [
    {
     "name": "stdout",
     "output_type": "stream",
     "text": [
      "A slug's blood is green. True\n",
      "The loudest animal is the African Elephant. False\n",
      "Approximately one quarter of human bones are in the feet. True\n",
      "The total surface area of a human lungs is the size of a football pitch. True\n",
      "In West Virginia, USA, if you accidentally hit an animal with your car, you are free to take it home to eat. True\n",
      "In London, UK, if you happen to die in the House of Parliament, you are entitled to a state funeral. False\n",
      "It is illegal to pee in the Ocean in Portugal. True\n",
      "You can lead a cow down stairs but not up stairs. False\n",
      "Google was originally called 'Backrub'. True\n",
      "Buzz Aldrin's mother's maiden name was 'Moon'. True\n",
      "No piece of square dry paper can be folded in half more than 7 times. False\n",
      "A few ounces of chocolate can to kill a small dog. True\n"
     ]
    }
   ],
   "source": [
    "question_data = [\n",
    "{\"text\": \"A slug's blood is green.\", \"answer\": \"True\"},\n",
    "{\"text\": \"The loudest animal is the African Elephant.\", \"answer\": \"False\"},\n",
    "{\"text\": \"Approximately one quarter of human bones are in the feet.\", \"answer\": \"True\"},\n",
    "{\"text\": \"The total surface area of a human lungs is the size of a football pitch.\", \"answer\": \"True\"},\n",
    "{\"text\": \"In West Virginia, USA, if you accidentally hit an animal with your car, you are free to take it home to eat.\", \"answer\": \"True\"},\n",
    "{\"text\": \"In London, UK, if you happen to die in the House of Parliament, you are entitled to a state funeral.\", \"answer\": \"False\"},\n",
    "{\"text\": \"It is illegal to pee in the Ocean in Portugal.\", \"answer\": \"True\"},\n",
    "{\"text\": \"You can lead a cow down stairs but not up stairs.\", \"answer\": \"False\"},\n",
    "{\"text\": \"Google was originally called 'Backrub'.\", \"answer\": \"True\"},\n",
    "{\"text\": \"Buzz Aldrin's mother's maiden name was 'Moon'.\", \"answer\": \"True\"},\n",
    "{\"text\": \"No piece of square dry paper can be folded in half more than 7 times.\", \"answer\": \"False\"},\n",
    "{\"text\": \"A few ounces of chocolate can to kill a small dog.\", \"answer\": \"True\"}\n",
    "]\n",
    "\n",
    "for que in question_data:\n",
    "  print(que[\"text\"], que[\"answer\"])"
   ]
  },
  {
   "cell_type": "code",
   "execution_count": 8,
   "id": "6915eaec",
   "metadata": {},
   "outputs": [
    {
     "name": "stdout",
     "output_type": "stream",
     "text": [
      "A slug's blood is green.\n"
     ]
    }
   ],
   "source": [
    "q = {\"text\": \"A slug's blood is green.\", \"answer\": \"True\"}\n",
    "print(q[\"text\"])"
   ]
  },
  {
   "cell_type": "code",
   "execution_count": null,
   "id": "0a9b4e56",
   "metadata": {},
   "outputs": [],
   "source": []
  }
 ],
 "metadata": {
  "kernelspec": {
   "display_name": "Python 3",
   "language": "python",
   "name": "python3"
  },
  "language_info": {
   "codemirror_mode": {
    "name": "ipython",
    "version": 3
   },
   "file_extension": ".py",
   "mimetype": "text/x-python",
   "name": "python",
   "nbconvert_exporter": "python",
   "pygments_lexer": "ipython3",
   "version": "3.8.8"
  }
 },
 "nbformat": 4,
 "nbformat_minor": 5
}
