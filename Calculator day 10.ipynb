{
 "cells": [
  {
   "cell_type": "code",
   "execution_count": 8,
   "id": "f19f2f57",
   "metadata": {},
   "outputs": [
    {
     "name": "stdout",
     "output_type": "stream",
     "text": [
      "f name HJBJHB\n",
      "l name gsgJHJG\n",
      "Hjbjhb Gsgjhjg\n"
     ]
    }
   ],
   "source": [
    "def format_name(fn, ln):\n",
    "    otcf = fn.title()\n",
    "    otcl = ln.title() \n",
    "    return f\"{otcf} {otcl}\"\n",
    "\n",
    "\n",
    "first = input(\"f name \")\n",
    "last = input(\"l name \") \n",
    "print(format_name(first, last))"
   ]
  },
  {
   "cell_type": "code",
   "execution_count": 38,
   "id": "85a12d0a",
   "metadata": {},
   "outputs": [
    {
     "name": "stdout",
     "output_type": "stream",
     "text": [
      "year? 2000\n",
      "month?2\n",
      "29\n"
     ]
    }
   ],
   "source": [
    "def is_leap(year):\n",
    "    if year % 4 == 0:\n",
    "        if year % 100 == 0:\n",
    "            if year % 400 == 0:\n",
    "                return True\n",
    "                \n",
    "            else:\n",
    "                return False\n",
    "        else:\n",
    "            return True\n",
    "    else:\n",
    "        return False\n",
    "\n",
    "def days_in_month(y, months):\n",
    "    #b = \n",
    "    month_days = [31, 28, 31, 30, 31, 30, 31, 31, 30, 31, 30, 31]\n",
    "    if is_leap(y) and months == 2:\n",
    "         return 29       \n",
    "    else:\n",
    "        r = month_days[month-1]\n",
    "        return r\n",
    "        \n",
    "year  = int(input(\"year? \"))\n",
    "month = int(input(\"month?\"))\n",
    "days = days_in_month(year, month)\n",
    "print(days)\n",
    "\n",
    "    \n",
    "    "
   ]
  },
  {
   "cell_type": "code",
   "execution_count": null,
   "id": "48605ba8",
   "metadata": {},
   "outputs": [
    {
     "name": "stdout",
     "output_type": "stream",
     "text": [
      "enter 1st no 5\n",
      "+\n",
      "-\n",
      "*\n",
      "/\n",
      "select one opretor +\n",
      "enter next no 3\n",
      "5.0 + 3.0 = 8.0\n",
      "y or ny\n",
      "select one opretor +\n",
      "enter next no 8.4\n",
      "8.0 + 8.4 = 16.4\n"
     ]
    }
   ],
   "source": [
    "def add(n1, n2):\n",
    "    return n1 + n2\n",
    "def sub(n1, n2):\n",
    "    return n1 - n2\n",
    "def mul(n1, n2):\n",
    "    return n1 * n2\n",
    "def div(n1, n2):\n",
    "    return n1 / n2\n",
    "\n",
    "opration = {\"+\": add,\n",
    "       \"-\": sub,\n",
    "       \"*\": mul,\n",
    "       \"/\": div\n",
    "      }\n",
    "def calc():\n",
    "    num1 = float(input(\"enter 1st no \"))\n",
    "    for sign in opration:\n",
    "        print(sign)\n",
    "    should_con = True\n",
    "    ans = num1\n",
    "    while should_con:\n",
    "        opretor = input(\"select one opretor \")\n",
    "        nxno = float(input(\"enter next no \"))\n",
    "        fun = opration[opretor]\n",
    "        ans1 = fun(ans, nxno)\n",
    "        print(f\"{ans} {opretor} {nxno} = {ans1}\")\n",
    "        ans = ans1\n",
    "\n",
    "        #opretor = input(\"select one opretor \")\n",
    "\n",
    "        #fun = opration[opretor]\n",
    "        #ans2 = fun(ans1, num3)\n",
    "        #print(ans2)\n",
    "        dec = input(\"y or n\")\n",
    "        if dec == \"n\":\n",
    "            should_con = False\n",
    "            calc()\n",
    "        \n",
    "calc()\n",
    "\n"
   ]
  },
  {
   "cell_type": "code",
   "execution_count": null,
   "id": "e55bf6a9",
   "metadata": {},
   "outputs": [],
   "source": []
  },
  {
   "cell_type": "code",
   "execution_count": null,
   "id": "78ddb65e",
   "metadata": {},
   "outputs": [],
   "source": []
  },
  {
   "cell_type": "code",
   "execution_count": null,
   "id": "ade2afcd",
   "metadata": {},
   "outputs": [],
   "source": []
  },
  {
   "cell_type": "code",
   "execution_count": null,
   "id": "5ab9a514",
   "metadata": {},
   "outputs": [],
   "source": []
  },
  {
   "cell_type": "code",
   "execution_count": null,
   "id": "70b445fd",
   "metadata": {},
   "outputs": [],
   "source": []
  }
 ],
 "metadata": {
  "kernelspec": {
   "display_name": "Python 3",
   "language": "python",
   "name": "python3"
  },
  "language_info": {
   "codemirror_mode": {
    "name": "ipython",
    "version": 3
   },
   "file_extension": ".py",
   "mimetype": "text/x-python",
   "name": "python",
   "nbconvert_exporter": "python",
   "pygments_lexer": "ipython3",
   "version": "3.8.8"
  }
 },
 "nbformat": 4,
 "nbformat_minor": 5
}
