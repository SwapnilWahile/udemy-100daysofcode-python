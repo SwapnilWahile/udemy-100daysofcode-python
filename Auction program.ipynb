{
 "cells": [
  {
   "cell_type": "code",
   "execution_count": 2,
   "id": "1a25bfc8",
   "metadata": {},
   "outputs": [
    {
     "name": "stdout",
     "output_type": "stream",
     "text": [
      "whats is your name sam\n",
      "whats ur bid 50\n",
      "continue yes or no yes\n",
      "whats is your name jhon\n",
      "whats ur bid 60\n",
      "continue yes or no yes\n",
      "whats is your name roman\n",
      "whats ur bid 100\n",
      "continue yes or no no\n",
      "winner is roman, 100\n"
     ]
    }
   ],
   "source": [
    "#per = []\n",
    "dic = {}\n",
    "#am = 0\n",
    "def auc(per):\n",
    "    \n",
    "    #per.append(dic)\n",
    "    am = 0\n",
    "    name = \"\"\n",
    "    for d in per:\n",
    "        if per[d] > am:\n",
    "            am = per[d]\n",
    "            name = d\n",
    "    print(f\"winner is {name}, {am}\")\n",
    "            \n",
    "should_cont = True\n",
    "while should_cont:\n",
    "    name = input(\"whats is your name \")\n",
    "    bid = int(input(\"whats ur bid \"))\n",
    "    dic[name] = bid\n",
    "    dec = input(\"continue yes or no \")\n",
    "    if dec == \"no\":\n",
    "        should_cont = False   \n",
    "        auc(dic)\n"
   ]
  },
  {
   "cell_type": "code",
   "execution_count": null,
   "id": "c5f2dd18",
   "metadata": {},
   "outputs": [],
   "source": []
  }
 ],
 "metadata": {
  "kernelspec": {
   "display_name": "Python 3",
   "language": "python",
   "name": "python3"
  },
  "language_info": {
   "codemirror_mode": {
    "name": "ipython",
    "version": 3
   },
   "file_extension": ".py",
   "mimetype": "text/x-python",
   "name": "python",
   "nbconvert_exporter": "python",
   "pygments_lexer": "ipython3",
   "version": "3.8.8"
  }
 },
 "nbformat": 4,
 "nbformat_minor": 5
}
