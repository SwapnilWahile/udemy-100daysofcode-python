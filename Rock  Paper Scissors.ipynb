{
 "cells": [
  {
   "cell_type": "code",
   "execution_count": 4,
   "id": "a24b9faa",
   "metadata": {},
   "outputs": [
    {
     "name": "stdout",
     "output_type": "stream",
     "text": [
      "type 0 for rock , 1 for scissor , 2 for paper 0\n",
      "you win computer selected scissor\n"
     ]
    }
   ],
   "source": [
    "import random\n",
    "ch = int(input(\"type 0 for rock , 1 for scissor , 2 for paper \"))\n",
    "random.seed(ch)\n",
    "d = random.randint(0, 2)\n",
    "if(d == 0 and ch == 0) and (d == 1 and ch == 1) and (d == 2 and ch ==2):\n",
    "    print(\"com choose rock draw\")\n",
    "elif d == 0 and ch == 1:\n",
    "    print(\"you lose computer selected rock\")\n",
    "elif d == 0 and ch == 2:\n",
    "    print(\"you win computer selected rock\")\n",
    "elif d == 1 and ch == 0:\n",
    "    print(\"you win computer selected scissor\")\n",
    "elif d == 1 and ch == 2:\n",
    "    print(\"you lose computer selected scissor\")\n",
    "elif d == 2 and ch == 0:\n",
    "    print(\"you win computer selected paper\")\n",
    "elif d == 2 and ch == 1:\n",
    "    print(\"you win paper\")\n",
    "elif ch >= 3 or ch < 0:\n",
    "    print(\"Invalid Number\") "
   ]
  },
  {
   "cell_type": "code",
   "execution_count": null,
   "id": "61aa9c59",
   "metadata": {},
   "outputs": [],
   "source": []
  }
 ],
 "metadata": {
  "kernelspec": {
   "display_name": "Python 3",
   "language": "python",
   "name": "python3"
  },
  "language_info": {
   "codemirror_mode": {
    "name": "ipython",
    "version": 3
   },
   "file_extension": ".py",
   "mimetype": "text/x-python",
   "name": "python",
   "nbconvert_exporter": "python",
   "pygments_lexer": "ipython3",
   "version": "3.8.8"
  }
 },
 "nbformat": 4,
 "nbformat_minor": 5
}
