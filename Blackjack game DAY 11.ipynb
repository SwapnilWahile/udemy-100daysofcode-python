{
 "cells": [
  {
   "cell_type": "code",
   "execution_count": 32,
   "id": "fb182694",
   "metadata": {},
   "outputs": [
    {
     "name": "stdout",
     "output_type": "stream",
     "text": [
      "wants to blackjack: y or n y\n",
      "your cards [8, 5]\n",
      "dealer card 3\n",
      "do you want to stand or hit hit\n",
      "ur drawn card 9\n",
      "dealers all cards [3, 11]\n",
      "u lost game ends\n"
     ]
    }
   ],
   "source": [
    "import random\n",
    "cards = [11, 2, 3, 4, 5, 6, 7, 8, 9, 10, 10, 10, 10]\n",
    "usrc = []\n",
    "def user():\n",
    "    for i in range(1, 3):\n",
    "        user_car = cards[random.randint(0,12)]\n",
    "        usrc.append(user_car)\n",
    "    print(f\"your cards {usrc}\")\n",
    "    addu = usrc[0] + usrc [1]\n",
    "    return addu\n",
    "\n",
    "def drawu_card():\n",
    "        dous_car = cards[random.randint(0,12)]\n",
    "        usrc.append(dous_car)\n",
    "        print(f\"your drawn card {dous_car}\")\n",
    "        return dous_car\n",
    "        \n",
    "dlc = []\n",
    "def dealer():\n",
    "    for i in range(1, 3):\n",
    "        dl_car = cards[random.randint(0,12)]\n",
    "        dlc.append(dl_car)\n",
    "    print(f\"Dealer card {dlc[0]}\")\n",
    "    addd = dlc[0] + dlc[1] \n",
    "    return addd\n",
    "\n",
    "def draw_card():\n",
    "        dodl_car = cards[random.randint(0,12)]\n",
    "        dlc.append(dodl_car)\n",
    "        print(f\"Dealer drawn card {dodl_car}\")\n",
    "        #adddl = dlc[0] + dlc[1] + do\n",
    "        return dodl_car\n",
    "   \n",
    "\n",
    "dec = input(\"Do you wants to play blackjack: y or n \")\n",
    "\n",
    "if dec == \"y\":\n",
    "    user()\n",
    "    dealer()    \n",
    "    continu = True \n",
    "    dlcam = 0\n",
    "    usercam = 0\n",
    "    def winner_dec():\n",
    "        if usercam == 21 and dlcam == 21:\n",
    "            print(f\"Dealers all cards {dlc}\")\n",
    "            print(\"Dealer is winner \")\n",
    "        elif usercam == 21 or dlcam == 21:\n",
    "            print(f\"Dealers all cards {dlc}\")\n",
    "            print(\"Its blackjack game ends \")\n",
    "        elif usercam > 21:\n",
    "            print(f\"Dealers all cards {dlc}\")\n",
    "            print(\"You lost game ends\")\n",
    "        elif dlcam > 21:\n",
    "            print(f\"Dealers all cards {dlc}\")\n",
    "            print(\"You won\")\n",
    "        elif usercam > dlcam:\n",
    "            print(f\"Dealers all cards {dlc}\")\n",
    "            print(\"you are winner \")\n",
    "        elif dlcam > usercam:\n",
    "            print(f\"Dealers all cards {dlc}\")\n",
    "            print(\"Dealer is winner \")\n",
    "        else:\n",
    "            print(f\"Dealers all cards {dlc}\")\n",
    "            print(\"Draw\")\n",
    "    while continu:    \n",
    "        storhit = input(\"do you want to stand or hit \")\n",
    "        if storhit == \"hit\":\n",
    "            drawu_card()\n",
    "            for x in usrc:\n",
    "                usercam += x\n",
    "            if usercam == 20 or usercam > 20:\n",
    "                    winner_dec()\n",
    "                    continu = False\n",
    "        else:\n",
    "            if dlcam <= 16:\n",
    "                should_draw = True\n",
    "                while should_draw:\n",
    "                    draw_card()\n",
    "                    for z in dlc:\n",
    "                        dlcam += z\n",
    "                    if dlcam > 16:\n",
    "                        should_draw = False\n",
    "                        winner_dec()\n",
    "                        continu = False\n",
    "            else:\n",
    "                winner_dec()\n",
    "else:\n",
    "    print(\"bye\")\n",
    "        \n",
    "    "
   ]
  },
  {
   "cell_type": "code",
   "execution_count": null,
   "id": "035ce751",
   "metadata": {},
   "outputs": [],
   "source": []
  },
  {
   "cell_type": "code",
   "execution_count": null,
   "id": "cdadf384",
   "metadata": {},
   "outputs": [],
   "source": []
  },
  {
   "cell_type": "code",
   "execution_count": null,
   "id": "52399cef",
   "metadata": {},
   "outputs": [],
   "source": []
  },
  {
   "cell_type": "code",
   "execution_count": null,
   "id": "7667532f",
   "metadata": {},
   "outputs": [],
   "source": []
  },
  {
   "cell_type": "code",
   "execution_count": null,
   "id": "115404f3",
   "metadata": {},
   "outputs": [],
   "source": []
  },
  {
   "cell_type": "code",
   "execution_count": null,
   "id": "987912a1",
   "metadata": {},
   "outputs": [],
   "source": []
  },
  {
   "cell_type": "code",
   "execution_count": null,
   "id": "445acaa8",
   "metadata": {},
   "outputs": [],
   "source": []
  },
  {
   "cell_type": "code",
   "execution_count": null,
   "id": "4fcc5886",
   "metadata": {},
   "outputs": [],
   "source": []
  },
  {
   "cell_type": "code",
   "execution_count": null,
   "id": "a6fb7672",
   "metadata": {},
   "outputs": [],
   "source": []
  },
  {
   "cell_type": "code",
   "execution_count": null,
   "id": "d5d3757c",
   "metadata": {},
   "outputs": [],
   "source": []
  },
  {
   "cell_type": "code",
   "execution_count": null,
   "id": "4715f51c",
   "metadata": {},
   "outputs": [],
   "source": []
  },
  {
   "cell_type": "code",
   "execution_count": null,
   "id": "903c3754",
   "metadata": {},
   "outputs": [],
   "source": []
  },
  {
   "cell_type": "code",
   "execution_count": null,
   "id": "0b6d11d8",
   "metadata": {},
   "outputs": [],
   "source": []
  },
  {
   "cell_type": "code",
   "execution_count": null,
   "id": "0d65c7be",
   "metadata": {},
   "outputs": [],
   "source": []
  },
  {
   "cell_type": "code",
   "execution_count": null,
   "id": "ef69a7f3",
   "metadata": {},
   "outputs": [],
   "source": []
  },
  {
   "cell_type": "code",
   "execution_count": null,
   "id": "d5cbc015",
   "metadata": {},
   "outputs": [],
   "source": []
  },
  {
   "cell_type": "code",
   "execution_count": null,
   "id": "4ee15df4",
   "metadata": {},
   "outputs": [],
   "source": []
  },
  {
   "cell_type": "code",
   "execution_count": null,
   "id": "bdb3b352",
   "metadata": {},
   "outputs": [],
   "source": []
  },
  {
   "cell_type": "code",
   "execution_count": null,
   "id": "18af4700",
   "metadata": {},
   "outputs": [],
   "source": []
  },
  {
   "cell_type": "code",
   "execution_count": null,
   "id": "f085d2ed",
   "metadata": {},
   "outputs": [],
   "source": []
  },
  {
   "cell_type": "code",
   "execution_count": null,
   "id": "9d637f76",
   "metadata": {},
   "outputs": [],
   "source": []
  },
  {
   "cell_type": "code",
   "execution_count": null,
   "id": "0cd99459",
   "metadata": {},
   "outputs": [],
   "source": []
  },
  {
   "cell_type": "code",
   "execution_count": null,
   "id": "06321abe",
   "metadata": {},
   "outputs": [],
   "source": []
  },
  {
   "cell_type": "code",
   "execution_count": null,
   "id": "689320f9",
   "metadata": {},
   "outputs": [],
   "source": []
  },
  {
   "cell_type": "code",
   "execution_count": null,
   "id": "978edd89",
   "metadata": {},
   "outputs": [],
   "source": []
  },
  {
   "cell_type": "code",
   "execution_count": null,
   "id": "79415ea2",
   "metadata": {},
   "outputs": [],
   "source": []
  },
  {
   "cell_type": "code",
   "execution_count": null,
   "id": "f249b9e9",
   "metadata": {},
   "outputs": [],
   "source": []
  },
  {
   "cell_type": "code",
   "execution_count": null,
   "id": "769bbc11",
   "metadata": {},
   "outputs": [],
   "source": []
  },
  {
   "cell_type": "code",
   "execution_count": null,
   "id": "f5677f00",
   "metadata": {},
   "outputs": [],
   "source": []
  },
  {
   "cell_type": "code",
   "execution_count": null,
   "id": "0e4b12f4",
   "metadata": {},
   "outputs": [],
   "source": []
  },
  {
   "cell_type": "code",
   "execution_count": null,
   "id": "232e06f1",
   "metadata": {},
   "outputs": [],
   "source": []
  },
  {
   "cell_type": "code",
   "execution_count": null,
   "id": "7b164f39",
   "metadata": {},
   "outputs": [],
   "source": []
  },
  {
   "cell_type": "code",
   "execution_count": null,
   "id": "a85e8da9",
   "metadata": {},
   "outputs": [],
   "source": []
  },
  {
   "cell_type": "code",
   "execution_count": null,
   "id": "9f454fdf",
   "metadata": {},
   "outputs": [],
   "source": []
  },
  {
   "cell_type": "code",
   "execution_count": null,
   "id": "8cebc62e",
   "metadata": {},
   "outputs": [],
   "source": []
  },
  {
   "cell_type": "code",
   "execution_count": null,
   "id": "4d96eb44",
   "metadata": {},
   "outputs": [],
   "source": []
  },
  {
   "cell_type": "code",
   "execution_count": null,
   "id": "430a4915",
   "metadata": {},
   "outputs": [],
   "source": [
    "vdealer = dealer()    \n",
    "if vdealer < 17:\n",
    "    should_draw = True\n",
    "    while should_draw:\n",
    "        draw_card()\n",
    "        if dealer() > 16:\n",
    "            should_draw = False"
   ]
  },
  {
   "cell_type": "code",
   "execution_count": null,
   "id": "31cc07f2",
   "metadata": {},
   "outputs": [],
   "source": [
    "usercam = 0\n",
    "for x in usrc:\n",
    "    usercam += x\n",
    "    \n",
    "dlcam = 0\n",
    "for z in dlc:\n",
    "    dlcam += z "
   ]
  },
  {
   "cell_type": "code",
   "execution_count": null,
   "id": "9d696c79",
   "metadata": {},
   "outputs": [],
   "source": []
  },
  {
   "cell_type": "code",
   "execution_count": null,
   "id": "dff13cce",
   "metadata": {},
   "outputs": [],
   "source": []
  },
  {
   "cell_type": "code",
   "execution_count": 7,
   "id": "fba88956",
   "metadata": {},
   "outputs": [
    {
     "ename": "ModuleNotFoundError",
     "evalue": "No module named 'replit'",
     "output_type": "error",
     "traceback": [
      "\u001b[1;31m---------------------------------------------------------------------------\u001b[0m",
      "\u001b[1;31mModuleNotFoundError\u001b[0m                       Traceback (most recent call last)",
      "\u001b[1;32m<ipython-input-7-3af4284c2613>\u001b[0m in \u001b[0;36m<module>\u001b[1;34m\u001b[0m\n\u001b[0;32m      1\u001b[0m \u001b[1;32mimport\u001b[0m \u001b[0mrandom\u001b[0m\u001b[1;33m\u001b[0m\u001b[1;33m\u001b[0m\u001b[0m\n\u001b[1;32m----> 2\u001b[1;33m \u001b[1;32mfrom\u001b[0m \u001b[0mreplit\u001b[0m \u001b[1;32mimport\u001b[0m \u001b[0mclear\u001b[0m\u001b[1;33m\u001b[0m\u001b[1;33m\u001b[0m\u001b[0m\n\u001b[0m\u001b[0;32m      3\u001b[0m \u001b[1;32mfrom\u001b[0m \u001b[0mart\u001b[0m \u001b[1;32mimport\u001b[0m \u001b[0mlogo\u001b[0m\u001b[1;33m\u001b[0m\u001b[1;33m\u001b[0m\u001b[0m\n\u001b[0;32m      4\u001b[0m \u001b[1;33m\u001b[0m\u001b[0m\n\u001b[0;32m      5\u001b[0m \u001b[1;32mdef\u001b[0m \u001b[0mdeal_card\u001b[0m\u001b[1;33m(\u001b[0m\u001b[1;33m)\u001b[0m\u001b[1;33m:\u001b[0m\u001b[1;33m\u001b[0m\u001b[1;33m\u001b[0m\u001b[0m\n",
      "\u001b[1;31mModuleNotFoundError\u001b[0m: No module named 'replit'"
     ]
    }
   ],
   "source": [
    "import random\n",
    "from replit import clear\n",
    "from art import logo\n",
    "\n",
    "def deal_card():\n",
    "  \"\"\"Returns a random card from the deck.\"\"\"\n",
    "  cards = [11, 2, 3, 4, 5, 6, 7, 8, 9, 10, 10, 10, 10]\n",
    "  card = random.choice(cards)\n",
    "  return card\n",
    "\n",
    "#Hint 6: Create a function called calculate_score() that takes a List of cards as input \n",
    "#and returns the score. \n",
    "#Look up the sum() function to help you do this.\n",
    "def calculate_score(cards):\n",
    "  \"\"\"Take a list of cards and return the score calculated from the cards\"\"\"\n",
    "\n",
    "  #Hint 7: Inside calculate_score() check for a blackjack (a hand with only 2 cards: ace + 10) and return 0 instead of the actual score. 0 will represent a blackjack in our game.\n",
    "  if sum(cards) == 21 and len(cards) == 2:\n",
    "    return 0\n",
    "  #Hint 8: Inside calculate_score() check for an 11 (ace). If the score is already over 21, remove the 11 and replace it with a 1. You might need to look up append() and remove().\n",
    "  if 11 in cards and sum(cards) > 21:\n",
    "    cards.remove(11)\n",
    "    cards.append(1)\n",
    "  return sum(cards)\n",
    "\n",
    "#Hint 13: Create a function called compare() and pass in the user_score and computer_score. If the computer and user both have the same score, then it's a draw. If the computer has a blackjack (0), then the user loses. If the user has a blackjack (0), then the user wins. If the user_score is over 21, then the user loses. If the computer_score is over 21, then the computer loses. If none of the above, then the player with the highest score wins.\n",
    "def compare(user_score, computer_score):\n",
    "  #Bug fix. If you and the computer are both over, you lose.\n",
    "  if user_score > 21 and computer_score > 21:\n",
    "    return \"You went over. You lose 😤\"\n",
    "\n",
    "\n",
    "  if user_score == computer_score:\n",
    "    return \"Draw 🙃\"\n",
    "  elif computer_score == 0:\n",
    "    return \"Lose, opponent has Blackjack 😱\"\n",
    "  elif user_score == 0:\n",
    "    return \"Win with a Blackjack 😎\"\n",
    "  elif user_score > 21:\n",
    "    return \"You went over. You lose 😭\"\n",
    "  elif computer_score > 21:\n",
    "    return \"Opponent went over. You win 😁\"\n",
    "  elif user_score > computer_score:\n",
    "    return \"You win 😃\"\n",
    "  else:\n",
    "    return \"You lose 😤\"\n",
    "\n",
    "def play_game():\n",
    "\n",
    "  print(logo)\n",
    "\n",
    "  #Hint 5: Deal the user and computer 2 cards each using deal_card()\n",
    "  user_cards = []\n",
    "  computer_cards = []\n",
    "  is_game_over = False\n",
    "\n",
    "  for _ in range(2):\n",
    "    user_cards.append(deal_card())\n",
    "    computer_cards.append(deal_card())\n",
    "\n",
    "  #Hint 11: The score will need to be rechecked with every new card drawn and the checks in Hint 9 need to be repeated until the game ends.\n",
    "\n",
    "  while not is_game_over:\n",
    "    #Hint 9: Call calculate_score(). If the computer or the user has a blackjack (0) or if the user's score is over 21, then the game ends.\n",
    "    user_score = calculate_score(user_cards)\n",
    "    computer_score = calculate_score(computer_cards)\n",
    "    print(f\"   Your cards: {user_cards}, current score: {user_score}\")\n",
    "    print(f\"   Computer's first card: {computer_cards[0]}\")\n",
    "\n",
    "    if user_score == 0 or computer_score == 0 or user_score > 21:\n",
    "      is_game_over = True\n",
    "    else:\n",
    "      #Hint 10: If the game has not ended, ask the user if they want to draw another card. If yes, then use the deal_card() function to add another card to the user_cards List. If no, then the game has ended.\n",
    "      user_should_deal = input(\"Type 'y' to get another card, type 'n' to pass: \")\n",
    "      if user_should_deal == \"y\":\n",
    "        user_cards.append(deal_card())\n",
    "      else:\n",
    "        is_game_over = True\n",
    "\n",
    "  #Hint 12: Once the user is done, it's time to let the computer play. The computer should keep drawing cards as long as it has a score less than 17.\n",
    "  while computer_score != 0 and computer_score < 17:\n",
    "    computer_cards.append(deal_card())\n",
    "    computer_score = calculate_score(computer_cards)\n",
    "\n",
    "  print(f\"   Your final hand: {user_cards}, final score: {user_score}\")\n",
    "  print(f\"   Computer's final hand: {computer_cards}, final score: {computer_score}\")\n",
    "  print(compare(user_score, computer_score))\n",
    "\n",
    "#Hint 14: Ask the user if they want to restart the game. If they answer yes, clear the console and start a new game of blackjack and show the logo from art.py.\n",
    "while input(\"Do you want to play a game of Blackjack? Type 'y' or 'n': \") == \"y\":\n",
    "  clear()\n",
    "  play_game()"
   ]
  },
  {
   "cell_type": "code",
   "execution_count": null,
   "id": "547d3d18",
   "metadata": {},
   "outputs": [],
   "source": []
  },
  {
   "cell_type": "code",
   "execution_count": null,
   "id": "7b733cb4",
   "metadata": {},
   "outputs": [],
   "source": []
  },
  {
   "cell_type": "code",
   "execution_count": null,
   "id": "7181299f",
   "metadata": {},
   "outputs": [],
   "source": []
  },
  {
   "cell_type": "code",
   "execution_count": null,
   "id": "650cc713",
   "metadata": {},
   "outputs": [],
   "source": []
  },
  {
   "cell_type": "code",
   "execution_count": null,
   "id": "73f72e5e",
   "metadata": {},
   "outputs": [],
   "source": []
  },
  {
   "cell_type": "code",
   "execution_count": null,
   "id": "48be357e",
   "metadata": {},
   "outputs": [],
   "source": []
  },
  {
   "cell_type": "code",
   "execution_count": null,
   "id": "f17c825f",
   "metadata": {},
   "outputs": [],
   "source": []
  },
  {
   "cell_type": "code",
   "execution_count": null,
   "id": "1a4d25e3",
   "metadata": {},
   "outputs": [],
   "source": []
  },
  {
   "cell_type": "code",
   "execution_count": null,
   "id": "8f615279",
   "metadata": {},
   "outputs": [],
   "source": []
  },
  {
   "cell_type": "code",
   "execution_count": null,
   "id": "58997411",
   "metadata": {},
   "outputs": [],
   "source": []
  },
  {
   "cell_type": "code",
   "execution_count": null,
   "id": "0b882bb0",
   "metadata": {},
   "outputs": [],
   "source": []
  },
  {
   "cell_type": "code",
   "execution_count": null,
   "id": "7a5f5dc8",
   "metadata": {},
   "outputs": [],
   "source": []
  },
  {
   "cell_type": "code",
   "execution_count": null,
   "id": "54f0c972",
   "metadata": {},
   "outputs": [],
   "source": []
  },
  {
   "cell_type": "code",
   "execution_count": null,
   "id": "a5aa4ddb",
   "metadata": {},
   "outputs": [],
   "source": []
  },
  {
   "cell_type": "code",
   "execution_count": null,
   "id": "cc7a93e5",
   "metadata": {},
   "outputs": [],
   "source": []
  },
  {
   "cell_type": "code",
   "execution_count": null,
   "id": "29ea6a06",
   "metadata": {},
   "outputs": [],
   "source": []
  },
  {
   "cell_type": "code",
   "execution_count": 16,
   "id": "dbe08d5e",
   "metadata": {},
   "outputs": [
    {
     "name": "stdout",
     "output_type": "stream",
     "text": [
      "[6, 5]\n"
     ]
    },
    {
     "data": {
      "text/plain": [
       "11"
      ]
     },
     "execution_count": 16,
     "metadata": {},
     "output_type": "execute_result"
    }
   ],
   "source": [
    "def user():\n",
    "    usrc = []\n",
    "    for i in range(1, 3):\n",
    "        user_car = cards[random.randint(0,12)]\n",
    "        usrc.append(user_car)\n",
    "    print(usrc)\n",
    "    addu = usrc[0] + usrc [1]\n",
    "    return addu\n",
    "\n",
    "user()        "
   ]
  },
  {
   "cell_type": "code",
   "execution_count": null,
   "id": "53057e18",
   "metadata": {},
   "outputs": [],
   "source": []
  },
  {
   "cell_type": "code",
   "execution_count": null,
   "id": "ce36cf68",
   "metadata": {},
   "outputs": [],
   "source": []
  },
  {
   "cell_type": "code",
   "execution_count": null,
   "id": "dd355ab2",
   "metadata": {},
   "outputs": [],
   "source": []
  },
  {
   "cell_type": "code",
   "execution_count": null,
   "id": "f3ca8964",
   "metadata": {},
   "outputs": [],
   "source": []
  },
  {
   "cell_type": "code",
   "execution_count": null,
   "id": "5e101b0c",
   "metadata": {},
   "outputs": [],
   "source": []
  },
  {
   "cell_type": "code",
   "execution_count": null,
   "id": "df3be341",
   "metadata": {},
   "outputs": [],
   "source": []
  },
  {
   "cell_type": "code",
   "execution_count": null,
   "id": "476465a7",
   "metadata": {},
   "outputs": [],
   "source": []
  },
  {
   "cell_type": "code",
   "execution_count": null,
   "id": "acf6bf06",
   "metadata": {},
   "outputs": [],
   "source": []
  },
  {
   "cell_type": "code",
   "execution_count": null,
   "id": "b634f008",
   "metadata": {},
   "outputs": [],
   "source": []
  },
  {
   "cell_type": "code",
   "execution_count": null,
   "id": "23e0e5b0",
   "metadata": {},
   "outputs": [],
   "source": []
  },
  {
   "cell_type": "code",
   "execution_count": null,
   "id": "3623ce52",
   "metadata": {},
   "outputs": [],
   "source": []
  },
  {
   "cell_type": "code",
   "execution_count": null,
   "id": "a34054e1",
   "metadata": {},
   "outputs": [],
   "source": []
  },
  {
   "cell_type": "code",
   "execution_count": null,
   "id": "83178bbe",
   "metadata": {},
   "outputs": [],
   "source": []
  },
  {
   "cell_type": "code",
   "execution_count": null,
   "id": "8b3ae062",
   "metadata": {},
   "outputs": [],
   "source": []
  },
  {
   "cell_type": "code",
   "execution_count": null,
   "id": "e79a649e",
   "metadata": {},
   "outputs": [],
   "source": []
  },
  {
   "cell_type": "code",
   "execution_count": null,
   "id": "b6bc30ba",
   "metadata": {},
   "outputs": [],
   "source": []
  },
  {
   "cell_type": "code",
   "execution_count": null,
   "id": "0ff7ee53",
   "metadata": {},
   "outputs": [],
   "source": []
  },
  {
   "cell_type": "code",
   "execution_count": null,
   "id": "f34f4c18",
   "metadata": {},
   "outputs": [],
   "source": []
  },
  {
   "cell_type": "code",
   "execution_count": null,
   "id": "b327d9cb",
   "metadata": {},
   "outputs": [],
   "source": []
  }
 ],
 "metadata": {
  "kernelspec": {
   "display_name": "Python 3",
   "language": "python",
   "name": "python3"
  },
  "language_info": {
   "codemirror_mode": {
    "name": "ipython",
    "version": 3
   },
   "file_extension": ".py",
   "mimetype": "text/x-python",
   "name": "python",
   "nbconvert_exporter": "python",
   "pygments_lexer": "ipython3",
   "version": "3.8.8"
  }
 },
 "nbformat": 4,
 "nbformat_minor": 5
}
