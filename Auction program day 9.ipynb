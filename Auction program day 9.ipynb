{
 "cells": [
  {
   "cell_type": "code",
   "execution_count": 13,
   "id": "b093022b",
   "metadata": {},
   "outputs": [
    {
     "name": "stdout",
     "output_type": "stream",
     "text": [
      "{'harry': 'exceeds expectation', 'ron': 'acceptable', 'hermione': 'outstanding', 'draco': 'acceptable', 'neville': 'Fail'}\n"
     ]
    }
   ],
   "source": [
    "student_score = {\n",
    " \"harry\": 81,\n",
    " \"ron\": 78,\n",
    " \"hermione\": 99,\n",
    " \"draco\": 74,\n",
    " \"neville\": 62,\n",
    "}\n",
    "stud_grade = {}\n",
    "for stud in student_score:\n",
    "    if student_score[stud] > 90 and student_score[stud] < 101:\n",
    "        stud_grade[stud] = \"outstanding\"\n",
    "    elif student_score[stud] > 80 and student_score[stud] < 91:\n",
    "            stud_grade[stud] = \"exceeds expectation\"\n",
    "    elif student_score[stud] > 70 and student_score[stud] < 81:\n",
    "            stud_grade[stud] = \"acceptable\"\n",
    "    else:\n",
    "        stud_grade[stud] = \"Fail\"\n",
    "        \n",
    "            \n",
    "            \n",
    "\n",
    "print(stud_grade)\n",
    "        \n",
    "        "
   ]
  },
  {
   "cell_type": "code",
   "execution_count": 2,
   "id": "f42aeb9d",
   "metadata": {},
   "outputs": [
    {
     "name": "stdout",
     "output_type": "stream",
     "text": [
      "[{'country': 'germany', 'cities_visited': ['berlin', 'hamburg', 'stuttgart'], 'total_visit': 0}, {'country': 'Russia', 'total_visit': 2, 'cities_visited': ['Moscow', 'Saint Petersburg']}]\n"
     ]
    }
   ],
   "source": [
    "travel_log = [\n",
    " {\n",
    " \"country\": \"germany\",\n",
    " \"cities_visited\": [\"berlin\", \"hamburg\", \"stuttgart\"], \n",
    " \"total_visit\": 0}\n",
    "]\n",
    "\n",
    "def add_new_country(c, v, ci):\n",
    "    new_country = {}\n",
    "    new_country[\"country\"] = c\n",
    "    new_country[\"total_visit\"] = v\n",
    "    new_country[\"cities_visited\"] = ci\n",
    "    travel_log.append(new_country)\n",
    "    \n",
    "    \n",
    "add_new_country(\"Russia\", 2, [\"Moscow\", \"Saint Petersburg\"])\n",
    "print(travel_log)"
   ]
  },
  {
   "cell_type": "code",
   "execution_count": 35,
   "id": "94f87851",
   "metadata": {},
   "outputs": [
    {
     "ename": "ModuleNotFoundError",
     "evalue": "No module named 'travel_log'",
     "output_type": "error",
     "traceback": [
      "\u001b[1;31m---------------------------------------------------------------------------\u001b[0m",
      "\u001b[1;31mModuleNotFoundError\u001b[0m                       Traceback (most recent call last)",
      "\u001b[1;32m<ipython-input-35-6636a16ae470>\u001b[0m in \u001b[0;36m<module>\u001b[1;34m\u001b[0m\n\u001b[1;32m----> 1\u001b[1;33m \u001b[1;32mimport\u001b[0m \u001b[0mtravel_log\u001b[0m\u001b[1;33m\u001b[0m\u001b[1;33m\u001b[0m\u001b[0m\n\u001b[0m",
      "\u001b[1;31mModuleNotFoundError\u001b[0m: No module named 'travel_log'"
     ]
    }
   ],
   "source": [
    "import travel_log"
   ]
  },
  {
   "cell_type": "code",
   "execution_count": 18,
   "id": "16fd4f35",
   "metadata": {},
   "outputs": [
    {
     "name": "stdout",
     "output_type": "stream",
     "text": [
      "whats is your name dam\n",
      "whats ur bid 20\n",
      "continue yes or no yes\n",
      "whats is your name nam\n",
      "whats ur bid 30\n",
      "continue yes or no yes\n",
      "whats is your name jham\n",
      "whats ur bid 40\n",
      "continue yes or no yes\n",
      "whats is your name gam\n",
      "whats ur bid 50\n",
      "continue yes or no no\n",
      "winner is gam, 50\n"
     ]
    }
   ],
   "source": [
    "#per = []\n",
    "dic = {}\n",
    "#am = 0\n",
    "def auc(per):\n",
    "    \n",
    "    #per.append(dic)\n",
    "    am = 0\n",
    "    name = \"\"\n",
    "    for d in per:\n",
    "        if per[d] > am:\n",
    "            am = per[d]\n",
    "            name = d\n",
    "    print(f\"winner is {name}, {am}\")\n",
    "            \n",
    "should_cont = True\n",
    "while should_cont:\n",
    "    name = input(\"whats is your name \")\n",
    "    bid = int(input(\"whats ur bid \"))\n",
    "    dic[name] = bid\n",
    "    dec = input(\"continue yes or no \")\n",
    "    if dec == \"no\":\n",
    "        should_cont = False   \n",
    "        auc(dic)\n",
    "\n",
    "\n",
    "    "
   ]
  },
  {
   "cell_type": "code",
   "execution_count": null,
   "id": "f4fe1568",
   "metadata": {},
   "outputs": [],
   "source": []
  },
  {
   "cell_type": "code",
   "execution_count": null,
   "id": "759f118e",
   "metadata": {},
   "outputs": [],
   "source": []
  },
  {
   "cell_type": "code",
   "execution_count": null,
   "id": "feaefe92",
   "metadata": {},
   "outputs": [],
   "source": []
  },
  {
   "cell_type": "code",
   "execution_count": null,
   "id": "92b5463c",
   "metadata": {},
   "outputs": [],
   "source": []
  },
  {
   "cell_type": "code",
   "execution_count": null,
   "id": "38c07e5b",
   "metadata": {},
   "outputs": [],
   "source": []
  },
  {
   "cell_type": "code",
   "execution_count": null,
   "id": "bebb831e",
   "metadata": {},
   "outputs": [],
   "source": []
  },
  {
   "cell_type": "code",
   "execution_count": null,
   "id": "88245dc2",
   "metadata": {},
   "outputs": [],
   "source": []
  },
  {
   "cell_type": "code",
   "execution_count": 11,
   "id": "2ba181ad",
   "metadata": {},
   "outputs": [
    {
     "ename": "KeyError",
     "evalue": "''",
     "output_type": "error",
     "traceback": [
      "\u001b[1;31m---------------------------------------------------------------------------\u001b[0m",
      "\u001b[1;31mKeyError\u001b[0m                                  Traceback (most recent call last)",
      "\u001b[1;32m<ipython-input-11-8b797809a202>\u001b[0m in \u001b[0;36m<module>\u001b[1;34m\u001b[0m\n\u001b[0;32m      1\u001b[0m \u001b[0mswa\u001b[0m \u001b[1;33m=\u001b[0m \u001b[1;33m[\u001b[0m\u001b[1;33m{\u001b[0m\u001b[1;34m\"ka\"\u001b[0m\u001b[1;33m:\u001b[0m \u001b[1;34m\"z\"\u001b[0m\u001b[1;33m}\u001b[0m\u001b[1;33m,\u001b[0m \u001b[1;33m{\u001b[0m\u001b[1;34m\"pa\"\u001b[0m\u001b[1;33m:\u001b[0m \u001b[1;34m\"y\"\u001b[0m\u001b[1;33m}\u001b[0m\u001b[1;33m]\u001b[0m\u001b[1;33m\u001b[0m\u001b[1;33m\u001b[0m\u001b[0m\n\u001b[0;32m      2\u001b[0m \u001b[1;32mfor\u001b[0m \u001b[0mi\u001b[0m \u001b[1;32min\u001b[0m \u001b[0mswa\u001b[0m\u001b[1;33m:\u001b[0m\u001b[1;33m\u001b[0m\u001b[1;33m\u001b[0m\u001b[0m\n\u001b[1;32m----> 3\u001b[1;33m     \u001b[0mprint\u001b[0m\u001b[1;33m(\u001b[0m\u001b[0mi\u001b[0m\u001b[1;33m[\u001b[0m\u001b[1;34m\"\"\u001b[0m\u001b[1;33m]\u001b[0m\u001b[1;33m)\u001b[0m\u001b[1;33m\u001b[0m\u001b[1;33m\u001b[0m\u001b[0m\n\u001b[0m\u001b[0;32m      4\u001b[0m \u001b[1;33m\u001b[0m\u001b[0m\n\u001b[0;32m      5\u001b[0m \u001b[1;33m\u001b[0m\u001b[0m\n",
      "\u001b[1;31mKeyError\u001b[0m: ''"
     ]
    }
   ],
   "source": [
    "swa = [{\"ka\": \"z\"}, {\"pa\": \"y\"}]\n",
    "for i in swa:\n",
    "    print(i[\"\"])\n",
    "    \n",
    "    \n",
    "\n"
   ]
  },
  {
   "cell_type": "code",
   "execution_count": null,
   "id": "688b223a",
   "metadata": {},
   "outputs": [],
   "source": []
  },
  {
   "cell_type": "code",
   "execution_count": null,
   "id": "4f56d6b0",
   "metadata": {},
   "outputs": [],
   "source": []
  },
  {
   "cell_type": "code",
   "execution_count": 19,
   "id": "6058e3fc",
   "metadata": {},
   "outputs": [
    {
     "name": "stdout",
     "output_type": "stream",
     "text": [
      "whats is your name swa\n",
      "whats ur bid 20\n",
      "continue yes or no yes\n",
      "winner is swa, 20\n",
      "whats is your name dam\n",
      "whats ur bid 30\n",
      "continue yes or no yes\n",
      "winner is dam, 30\n",
      "whats is your name fam\n",
      "whats ur bid 40\n",
      "continue yes or no yes\n",
      "winner is fam, 40\n",
      "whats is your name gam\n",
      "whats ur bid 50\n",
      "continue yes or no no\n",
      "winner is gam, 50\n"
     ]
    }
   ],
   "source": [
    "per = []\n",
    "dic = {}\n",
    "#am = 0\n",
    "def auc(n, b):\n",
    "    dic[\"name\"] = n\n",
    "    dic[\"bid\"] = b\n",
    "    per.append(dic)\n",
    "    am = 0\n",
    "    name = \"\"\n",
    "    for d in per:\n",
    "        if d[\"bid\"] > am:\n",
    "            am = d[\"bid\"]\n",
    "            name = d[\"name\"]\n",
    "            print(f\"winner is {name}, {am}\")\n",
    "            \n",
    "should_cont = True\n",
    "while should_cont:\n",
    "    name = input(\"whats is your name \")\n",
    "    bid = int(input(\"whats ur bid \"))\n",
    "    dec = input(\"continue yes or no \")\n",
    "    if dec == \"no\":\n",
    "        should_cont = False   \n",
    "    auc(name, bid)\n",
    "    "
   ]
  },
  {
   "cell_type": "code",
   "execution_count": null,
   "id": "097ff8cf",
   "metadata": {},
   "outputs": [],
   "source": []
  },
  {
   "cell_type": "code",
   "execution_count": null,
   "id": "cc91c569",
   "metadata": {},
   "outputs": [],
   "source": []
  },
  {
   "cell_type": "code",
   "execution_count": null,
   "id": "c79fe2f7",
   "metadata": {},
   "outputs": [],
   "source": []
  },
  {
   "cell_type": "code",
   "execution_count": null,
   "id": "41c11fe4",
   "metadata": {},
   "outputs": [],
   "source": []
  },
  {
   "cell_type": "code",
   "execution_count": null,
   "id": "61523c33",
   "metadata": {},
   "outputs": [],
   "source": []
  },
  {
   "cell_type": "code",
   "execution_count": null,
   "id": "3488ae85",
   "metadata": {},
   "outputs": [],
   "source": []
  }
 ],
 "metadata": {
  "kernelspec": {
   "display_name": "Python 3",
   "language": "python",
   "name": "python3"
  },
  "language_info": {
   "codemirror_mode": {
    "name": "ipython",
    "version": 3
   },
   "file_extension": ".py",
   "mimetype": "text/x-python",
   "name": "python",
   "nbconvert_exporter": "python",
   "pygments_lexer": "ipython3",
   "version": "3.8.8"
  }
 },
 "nbformat": 4,
 "nbformat_minor": 5
}
