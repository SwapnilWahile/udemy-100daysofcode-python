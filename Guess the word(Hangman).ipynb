{
 "cells": [
  {
   "cell_type": "code",
   "execution_count": 3,
   "id": "9da08134",
   "metadata": {},
   "outputs": [
    {
     "name": "stdout",
     "output_type": "stream",
     "text": [
      "[' ', ' ', ' ', ' ', ' ', ' ', ' ']\n",
      "guess the letter a\n",
      "['a', ' ', ' ', ' ', 'a', ' ', ' ']\n"
     ]
    }
   ],
   "source": [
    "import random\n",
    "word_list = [\"ardvark\",\"baboon\",\"camel\"]\n",
    "chosen_word = random.choice(word_list)\n",
    "leng = len(chosen_word)\n",
    "display = []\n",
    "for z in range(leng):\n",
    "    display += \" \"\n",
    "print(display)\n",
    "guess = input(\"guess the letter \").lower()\n",
    "e = 0\n",
    "k = []\n",
    "x = \"\"\n",
    "for a in chosen_word:\n",
    "    e += 1\n",
    "    if a == guess:\n",
    "        k.append(e)\n",
    "        x = a\n",
    "for q in k:\n",
    "    display[q-1] = x\n",
    "    #display.remove(display[leng])\n",
    "print(display)\n",
    "    \n",
    "    \n",
    "\n"
   ]
  },
  {
   "cell_type": "code",
   "execution_count": 8,
   "id": "7aa63ba3",
   "metadata": {},
   "outputs": [
    {
     "name": "stdout",
     "output_type": "stream",
     "text": [
      "guess the letter v\n",
      "guess the letter a\n",
      "guess the letter s\n",
      "guess the letter d\n",
      "guess the letter g\n",
      "[' ', 'a', ' ', ' ', ' ']\n",
      "You Lose\n"
     ]
    }
   ],
   "source": [
    "import random\n",
    "word_list = [\"ardvark\",\"baboon\",\"camel\"]\n",
    "chosen_word = random.choice(word_list)\n",
    "leng = len(chosen_word)\n",
    "display = []\n",
    "for z in range(leng):\n",
    "    display += \" \"\n",
    "#print(display)\n",
    "p = leng\n",
    "while leng > 0:\n",
    "    leng -= 1\n",
    "    guess = input(\"guess the letter \").lower()\n",
    "    for position in range(len(chosen_word)):\n",
    "        letter = chosen_word[position]\n",
    "        if letter == guess:\n",
    "            display[position] = letter\n",
    "print(display) \n",
    "if \" \" not in display:\n",
    "    #end_of_game = True\n",
    "    print(\"you win\")\n",
    "else:\n",
    "    print(\"You Lose\")\n",
    "   "
   ]
  },
  {
   "cell_type": "code",
   "execution_count": null,
   "id": "893e3f42",
   "metadata": {},
   "outputs": [],
   "source": []
  },
  {
   "cell_type": "code",
   "execution_count": null,
   "id": "801f99e4",
   "metadata": {},
   "outputs": [],
   "source": []
  }
 ],
 "metadata": {
  "kernelspec": {
   "display_name": "Python 3",
   "language": "python",
   "name": "python3"
  },
  "language_info": {
   "codemirror_mode": {
    "name": "ipython",
    "version": 3
   },
   "file_extension": ".py",
   "mimetype": "text/x-python",
   "name": "python",
   "nbconvert_exporter": "python",
   "pygments_lexer": "ipython3",
   "version": "3.8.8"
  }
 },
 "nbformat": 4,
 "nbformat_minor": 5
}
