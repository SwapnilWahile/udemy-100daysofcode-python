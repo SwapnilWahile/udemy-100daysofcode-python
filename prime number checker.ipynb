{
 "cells": [
  {
   "cell_type": "code",
   "execution_count": 1,
   "id": "d0b764a8",
   "metadata": {},
   "outputs": [
    {
     "ename": "NameError",
     "evalue": "name 'hang_word' is not defined",
     "output_type": "error",
     "traceback": [
      "\u001b[1;31m---------------------------------------------------------------------------\u001b[0m",
      "\u001b[1;31mNameError\u001b[0m                                 Traceback (most recent call last)",
      "\u001b[1;32m<ipython-input-1-b977a02f0969>\u001b[0m in \u001b[0;36m<module>\u001b[1;34m\u001b[0m\n\u001b[0;32m      1\u001b[0m \u001b[1;32mimport\u001b[0m \u001b[0mrandom\u001b[0m\u001b[1;33m\u001b[0m\u001b[1;33m\u001b[0m\u001b[0m\n\u001b[0;32m      2\u001b[0m \u001b[1;31m#word_list = [\"ardvark\",\"baboon\",\"camel\"]\u001b[0m\u001b[1;33m\u001b[0m\u001b[1;33m\u001b[0m\u001b[1;33m\u001b[0m\u001b[0m\n\u001b[1;32m----> 3\u001b[1;33m \u001b[0mchosen_word\u001b[0m \u001b[1;33m=\u001b[0m \u001b[0mrandom\u001b[0m\u001b[1;33m.\u001b[0m\u001b[0mchoice\u001b[0m\u001b[1;33m(\u001b[0m\u001b[0mhang_word\u001b[0m\u001b[1;33m.\u001b[0m\u001b[0mword_list\u001b[0m\u001b[1;33m)\u001b[0m\u001b[1;33m\u001b[0m\u001b[1;33m\u001b[0m\u001b[0m\n\u001b[0m\u001b[0;32m      4\u001b[0m \u001b[0mleng\u001b[0m \u001b[1;33m=\u001b[0m \u001b[0mlen\u001b[0m\u001b[1;33m(\u001b[0m\u001b[0mchosen_word\u001b[0m\u001b[1;33m)\u001b[0m\u001b[1;33m\u001b[0m\u001b[1;33m\u001b[0m\u001b[0m\n\u001b[0;32m      5\u001b[0m \u001b[0mdisplay\u001b[0m \u001b[1;33m=\u001b[0m \u001b[1;33m[\u001b[0m\u001b[1;33m]\u001b[0m\u001b[1;33m\u001b[0m\u001b[1;33m\u001b[0m\u001b[0m\n",
      "\u001b[1;31mNameError\u001b[0m: name 'hang_word' is not defined"
     ]
    }
   ],
   "source": [
    "import random\n",
    "#word_list = [\"ardvark\",\"baboon\",\"camel\"]\n",
    "chosen_word = random.choice(hang_word.word_list)\n",
    "leng = len(chosen_word)\n",
    "display = []\n",
    "for z in range(leng):\n",
    "    display += \" \"\n",
    "print(display)\n",
    "lives = 6\n",
    "end_of_game = False\n",
    "while not end_of_game:\n",
    "    guess = input(\"guess the letter \").lower()\n",
    "    clear()\n",
    "\n",
    "    if guess in display:\n",
    "        print(f\"{guess} u have already guess this word\")\n",
    "        \n",
    "    for position in range(leng):\n",
    "        letter = chosen_word[position]\n",
    "        if letter == guess:\n",
    "            display[position] = letter\n",
    "    if guess not in chosen_word:\n",
    "        lives -= 1\n",
    "        print(f\"{guess} not in word\")\n",
    "        if lives == 0:\n",
    "            end_of_game = True\n",
    "            print(\"you lose\")\n",
    "    if \" \" not in display:\n",
    "        end_of_game = True\n",
    "        print(\"you win\") \n",
    "            \n",
    "string = \"\"\n",
    "for n in display:\n",
    "    string += n\n",
    "print(string)"
   ]
  },
  {
   "cell_type": "code",
   "execution_count": null,
   "id": "cabefd2b",
   "metadata": {},
   "outputs": [],
   "source": []
  },
  {
   "cell_type": "code",
   "execution_count": 43,
   "id": "721ac37c",
   "metadata": {},
   "outputs": [
    {
     "name": "stdout",
     "output_type": "stream",
     "text": [
      "angela\n",
      "london\n"
     ]
    }
   ],
   "source": [
    "def greet(name, location):\n",
    "    print(f\"{name}\")\n",
    "    print(f\"{location}\")\n",
    "    \n",
    "greet(location = \"london\", name = \"angela\")"
   ]
  },
  {
   "cell_type": "code",
   "execution_count": 52,
   "id": "408bb641",
   "metadata": {},
   "outputs": [
    {
     "name": "stdout",
     "output_type": "stream",
     "text": [
      "height of wall: 7\n",
      "width of wall: 13\n",
      "19\n"
     ]
    }
   ],
   "source": [
    "import math\n",
    "def paint_calc(height, width, cover):\n",
    "    number_of_cans = height*width/cover\n",
    "    n = math.ceil(number_of_cans)\n",
    "    print(n)\n",
    "test_h = int(input(\"height of wall: \"))\n",
    "test_w = int(input(\"width of wall: \"))\n",
    "coverage = 5\n",
    "paint_calc(height=test_h, width=test_w, cover=coverage)"
   ]
  },
  {
   "cell_type": "code",
   "execution_count": 55,
   "id": "79765d95",
   "metadata": {},
   "outputs": [
    {
     "data": {
      "text/plain": [
       "16"
      ]
     },
     "execution_count": 55,
     "metadata": {},
     "output_type": "execute_result"
    }
   ],
   "source": [
    "round(15.5)"
   ]
  },
  {
   "cell_type": "code",
   "execution_count": 78,
   "id": "5230bae3",
   "metadata": {},
   "outputs": [
    {
     "name": "stdout",
     "output_type": "stream",
     "text": [
      "check this number: 17\n",
      "17 is a prime number\n"
     ]
    }
   ],
   "source": [
    "def prime_checker(number):\n",
    "    a=number\n",
    "    if a > 1:\n",
    "        \n",
    "        # Iterating over the given number with for loop  \n",
    "        for j in range(2, int(a/2) + 1):  \n",
    "            # If the given number is divisible or not  \n",
    "            if (a % j) == 0:  \n",
    "                print(a, \"is not a prime number\")  \n",
    "                break  \n",
    "        # Else it is a prime number  \n",
    "        else:  \n",
    "            print(a, \"is a prime number\")  \n",
    "    # If the given number is 1  \n",
    "    else:  \n",
    "        print(a, \"is not a prime number\")    \n",
    "    \n",
    "n = int(input(\"check this number: \"))\n",
    "prime_checker(number=n)"
   ]
  },
  {
   "cell_type": "code",
   "execution_count": 91,
   "id": "552f624b",
   "metadata": {},
   "outputs": [
    {
     "name": "stdout",
     "output_type": "stream",
     "text": [
      "check this number: 17\n",
      "its prime number\n"
     ]
    }
   ],
   "source": [
    "def prime_checker(number):\n",
    "    if number == 1:\n",
    "        print(\"its not prime number\")\n",
    "    else:\n",
    "        \n",
    "        for i in range(2, number-1):\n",
    "                \n",
    "                is_prime = True\n",
    "                if number % i == 0:\n",
    "                    is_prime = False\n",
    "        if is_prime:\n",
    "            print(\"its prime number\")\n",
    "        else:\n",
    "            print(\"its not prime number\")\n",
    "   \n",
    "            \n",
    "n = int(input(\"check this number: \"))\n",
    "prime_checker(number=n)           \n",
    "            "
   ]
  },
  {
   "cell_type": "code",
   "execution_count": null,
   "id": "c4c43858",
   "metadata": {},
   "outputs": [],
   "source": []
  },
  {
   "cell_type": "code",
   "execution_count": null,
   "id": "b2e76724",
   "metadata": {},
   "outputs": [],
   "source": []
  }
 ],
 "metadata": {
  "kernelspec": {
   "display_name": "Python 3",
   "language": "python",
   "name": "python3"
  },
  "language_info": {
   "codemirror_mode": {
    "name": "ipython",
    "version": 3
   },
   "file_extension": ".py",
   "mimetype": "text/x-python",
   "name": "python",
   "nbconvert_exporter": "python",
   "pygments_lexer": "ipython3",
   "version": "3.8.8"
  }
 },
 "nbformat": 4,
 "nbformat_minor": 5
}
