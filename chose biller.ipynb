{
 "cells": [
  {
   "cell_type": "code",
   "execution_count": 3,
   "id": "db58f599",
   "metadata": {},
   "outputs": [
    {
     "name": "stdout",
     "output_type": "stream",
     "text": [
      "create a seed number : 50\n",
      "give names roman, james, jhon, rock\n",
      "rock will pay bill\n"
     ]
    }
   ],
   "source": [
    "import random\n",
    "test_seed = int(input(\"create a seed number : \"))\n",
    "random.seed(test_seed)\n",
    "nameAsCSV = input(\"give names \")\n",
    "names = nameAsCSV.split(\", \")\n",
    "#num_name = len(names)\n",
    "#random = random.randint(0, num_name - 1)\n",
    "#preson = names[random]\n",
    "person = random.choice(names)\n",
    "print(f\"{person} will pay bill\")"
   ]
  },
  {
   "cell_type": "code",
   "execution_count": null,
   "id": "0fade7d5",
   "metadata": {},
   "outputs": [],
   "source": []
  }
 ],
 "metadata": {
  "kernelspec": {
   "display_name": "Python 3",
   "language": "python",
   "name": "python3"
  },
  "language_info": {
   "codemirror_mode": {
    "name": "ipython",
    "version": 3
   },
   "file_extension": ".py",
   "mimetype": "text/x-python",
   "name": "python",
   "nbconvert_exporter": "python",
   "pygments_lexer": "ipython3",
   "version": "3.8.8"
  }
 },
 "nbformat": 4,
 "nbformat_minor": 5
}
