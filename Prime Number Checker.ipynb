{
 "cells": [
  {
   "cell_type": "code",
   "execution_count": 1,
   "id": "0918a79c",
   "metadata": {},
   "outputs": [
    {
     "name": "stdout",
     "output_type": "stream",
     "text": [
      "check this number: 17\n",
      "its prime number\n"
     ]
    }
   ],
   "source": [
    "def prime_checker(number):\n",
    "    if number == 1:\n",
    "        print(\"its not prime number\")\n",
    "    else:\n",
    "        \n",
    "        for i in range(2, number-1):\n",
    "                \n",
    "                is_prime = True\n",
    "                if number % i == 0:\n",
    "                    is_prime = False\n",
    "        if is_prime:\n",
    "            print(\"its prime number\")\n",
    "        else:\n",
    "            print(\"its not prime number\")\n",
    "   \n",
    "            \n",
    "n = int(input(\"check this number: \"))\n",
    "prime_checker(number=n)           \n",
    "            "
   ]
  },
  {
   "cell_type": "code",
   "execution_count": 2,
   "id": "ecbbe04b",
   "metadata": {},
   "outputs": [
    {
     "name": "stdout",
     "output_type": "stream",
     "text": [
      "check this number: 8\n",
      "8 is not a prime number\n"
     ]
    }
   ],
   "source": [
    "#Another way to check prime number\n",
    "def prime_checker(number):\n",
    "    a=number\n",
    "    if a > 1:\n",
    "        \n",
    "        # Iterating over the given number with for loop  \n",
    "        for j in range(2, int(a/2) + 1):  \n",
    "            # If the given number is divisible or not  \n",
    "            if (a % j) == 0:  \n",
    "                print(a, \"is not a prime number\")  \n",
    "                break  \n",
    "        # Else it is a prime number  \n",
    "        else:  \n",
    "            print(a, \"is a prime number\")  \n",
    "    # If the given number is 1  \n",
    "    else:  \n",
    "        print(a, \"is not a prime number\")    \n",
    "    \n",
    "n = int(input(\"check this number: \"))\n",
    "prime_checker(number=n)"
   ]
  },
  {
   "cell_type": "code",
   "execution_count": null,
   "id": "3378a7fd",
   "metadata": {},
   "outputs": [],
   "source": []
  }
 ],
 "metadata": {
  "kernelspec": {
   "display_name": "Python 3",
   "language": "python",
   "name": "python3"
  },
  "language_info": {
   "codemirror_mode": {
    "name": "ipython",
    "version": 3
   },
   "file_extension": ".py",
   "mimetype": "text/x-python",
   "name": "python",
   "nbconvert_exporter": "python",
   "pygments_lexer": "ipython3",
   "version": "3.8.8"
  }
 },
 "nbformat": 4,
 "nbformat_minor": 5
}
