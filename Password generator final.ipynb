{
 "cells": [
  {
   "cell_type": "code",
   "execution_count": 1,
   "id": "5df7477d",
   "metadata": {},
   "outputs": [
    {
     "name": "stdout",
     "output_type": "stream",
     "text": [
      "wlecome to pypass genretor\n",
      "how many letters 4\n",
      "how many symbols 2\n",
      "how many number 3\n",
      "%d0n0b!0h\n"
     ]
    }
   ],
   "source": [
    "import random\n",
    "l = ['a', 'b', 'c', 'd', 'e', 'f', 'g', 'h', 'i', 'j', 'k', 'l', 'm', 'n', 'o', 'p', 'q', 'r', 's', 't', 'u', 'v', 'w', 'x', 'y', 'z']\n",
    "n = ['0', '1', '2', '3', '4', '5', '6', '7', '8', '9']\n",
    "s = ['!', '#', '$', '%', '&', '(', ')', '*', '+']\n",
    "print(\"wlecome to pypass genretor\")\n",
    "nrl = int(input(\"how many letters \"))\n",
    "nrs = int(input(\"how many symbols \"))\n",
    "nrn = int(input(\"how many number \"))\n",
    "p = []\n",
    "for a in range(0, nrl):\n",
    "    p += random.choice(l)\n",
    "for b in range(0, nrs):\n",
    "      p += random.choice(s)\n",
    "for c in range(0, nrn):\n",
    "      p += random.choice(n)\n",
    "random.shuffle(p) \n",
    "z = \"\"\n",
    "for k in p:\n",
    "    z += k\n",
    "print(z)\n",
    "    \n"
   ]
  },
  {
   "cell_type": "code",
   "execution_count": null,
   "id": "c108a0f9",
   "metadata": {},
   "outputs": [],
   "source": []
  }
 ],
 "metadata": {
  "kernelspec": {
   "display_name": "Python 3",
   "language": "python",
   "name": "python3"
  },
  "language_info": {
   "codemirror_mode": {
    "name": "ipython",
    "version": 3
   },
   "file_extension": ".py",
   "mimetype": "text/x-python",
   "name": "python",
   "nbconvert_exporter": "python",
   "pygments_lexer": "ipython3",
   "version": "3.8.8"
  }
 },
 "nbformat": 4,
 "nbformat_minor": 5
}
